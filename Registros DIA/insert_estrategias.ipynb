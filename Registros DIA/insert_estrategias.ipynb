{
 "cells": [
  {
   "cell_type": "code",
   "execution_count": 1,
   "id": "8afd29ef",
   "metadata": {},
   "outputs": [],
   "source": [
    "import pandas as pd \n",
    "import sqlite3\n",
    "import openpyxl"
   ]
  },
  {
   "cell_type": "code",
   "execution_count": 2,
   "id": "99bd9c7a",
   "metadata": {},
   "outputs": [],
   "source": [
    "def connect_db():\n",
    "    return sqlite3.connect(\"dados.db\")"
   ]
  },
  {
   "cell_type": "code",
   "execution_count": 3,
   "id": "ef68d329",
   "metadata": {},
   "outputs": [],
   "source": [
    "df = pd.read_excel(\"estrategias.xls\")"
   ]
  },
  {
   "cell_type": "code",
   "execution_count": 4,
   "id": "c660f61a",
   "metadata": {},
   "outputs": [],
   "source": [
    "df[[\"data_criacao\", \"data_inicial\", \"data_final\", \"hora_inicial\", \"hora_final\"]] = df[[\"data_criacao\", \"data_inicial\", \"data_final\", \"hora_inicial\", \"hora_final\"]].astype(str)"
   ]
  },
  {
   "cell_type": "code",
   "execution_count": 5,
   "id": "5819e5ad",
   "metadata": {},
   "outputs": [],
   "source": [
    "with connect_db() as conn:\n",
    "    df.to_sql(\"estrategias\", conn, if_exists=\"append\", index=False)\n",
    "    conn.commit()"
   ]
  }
 ],
 "metadata": {
  "kernelspec": {
   "display_name": "base",
   "language": "python",
   "name": "python3"
  },
  "language_info": {
   "codemirror_mode": {
    "name": "ipython",
    "version": 3
   },
   "file_extension": ".py",
   "mimetype": "text/x-python",
   "name": "python",
   "nbconvert_exporter": "python",
   "pygments_lexer": "ipython3",
   "version": "3.12.4"
  }
 },
 "nbformat": 4,
 "nbformat_minor": 5
}
