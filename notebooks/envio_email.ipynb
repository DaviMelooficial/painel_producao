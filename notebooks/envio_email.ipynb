{
 "cells": [
  {
   "cell_type": "code",
   "execution_count": 1,
   "id": "a97652c4-76cd-46f7-84fe-dd86fd2aa3a5",
   "metadata": {},
   "outputs": [],
   "source": [
    "import pandas as pd\n",
    "import shutil\n",
    "import os\n",
    "from datetime import datetime, timedelta\n",
    "import sqlite3"
   ]
  },
  {
   "cell_type": "code",
   "execution_count": 2,
   "id": "d39f751c-b451-44bb-9b4d-b1e5931ceb87",
   "metadata": {},
   "outputs": [],
   "source": [
    "df = pd.read_excel('Acionamentos.xlsx')\n",
    "df2 = pd.read_excel('Ocorrencias.xlsx')\n",
    "df3 = pd.read_excel('Operadores.xlsx')"
   ]
  },
  {
   "cell_type": "code",
   "execution_count": null,
   "id": "57f54716-520c-4df3-be82-559cbbb9cc26",
   "metadata": {},
   "outputs": [],
   "source": [
    "df.columns"
   ]
  },
  {
   "cell_type": "code",
   "execution_count": 4,
   "id": "fc0740ab-f2be-494b-b5a6-83876917ca67",
   "metadata": {},
   "outputs": [],
   "source": [
    "df_clean = df[['Cobrador', 'Data Inclusão', 'Acionamento', 'ID', 'Fone/Destino']]\n",
    "df_clean = pd.merge(df_clean, df2[['Acionamento', 'Classificação']], on='Acionamento', how='left')\n",
    "df_clean = pd.merge(df_clean, df3[['Cobrador', 'Supervisor', 'Carteira']], on='Cobrador', how='left')\n",
    "df_clean['Data Inclusão'] = pd.to_datetime(df_clean['Data Inclusão'])\n",
    "df_clean['Data'] = df_clean['Data Inclusão'].dt.date"
   ]
  },
  {
   "cell_type": "code",
   "execution_count": 5,
   "id": "0aa946d8-5166-4571-bf2f-dedfb954323e",
   "metadata": {},
   "outputs": [],
   "source": [
    "df_envio = df_clean[df_clean['Classificação'].isin(['CPC - TARGET', 'CPC', 'ALÔ', 'ACORDO', 'SEM CONTATO'])]"
   ]
  },
  {
   "cell_type": "code",
   "execution_count": null,
   "id": "d7d74e10-34ac-4505-b0eb-df22b9ef1d74",
   "metadata": {},
   "outputs": [],
   "source": [
    "data_inicio = datetime(2025, 1, 16) \n",
    "data_fim = datetime.today()  \n",
    "df_envio['Data'] = pd.to_datetime(df_envio['Data']) \n",
    "df_envio = df_envio[(df_envio['Data'] >= data_inicio) & (df_envio['Data'] <= data_fim)]\n",
    "df_envio.set_index('Cobrador', inplace=True)"
   ]
  },
  {
   "cell_type": "code",
   "execution_count": null,
   "id": "bdb1b8ba-e096-44bd-8561-5f272b287a48",
   "metadata": {},
   "outputs": [],
   "source": [
    "df_envio.to_excel('caminho/Registros DIA/Hoje.xlsx')"
   ]
  },
  {
   "cell_type": "code",
   "execution_count": 8,
   "id": "9ef6224f-edd1-4087-97ba-743bca417c53",
   "metadata": {},
   "outputs": [],
   "source": [
    "data_hoje = datetime.now().strftime('%Y-%m-%d')"
   ]
  },
  {
   "cell_type": "code",
   "execution_count": 9,
   "id": "261ee6bb-7c5c-4442-97f5-8d8fb97dda47",
   "metadata": {},
   "outputs": [],
   "source": [
    "novo_nome = f'{data_hoje}.xlsx'"
   ]
  },
  {
   "cell_type": "code",
   "execution_count": null,
   "id": "c3c7210a-3318-4ed0-84dc-796f47adf5e7",
   "metadata": {},
   "outputs": [],
   "source": [
    "os.rename('caminho/Registros DIA/Hoje.xlsx', novo_nome)\n",
    "shutil.move(novo_nome, 'caminho/Registros DIA')"
   ]
  },
  {
   "cell_type": "code",
   "execution_count": 11,
   "id": "f0332e7f-3909-4004-afac-0a5e095ed97a",
   "metadata": {},
   "outputs": [],
   "source": [
    "lista_emails = [\"exemplo@gmail.com\"]"
   ]
  },
  {
   "cell_type": "code",
   "execution_count": null,
   "id": "37624b77-a390-4a28-bf59-b2d4c42e5426",
   "metadata": {},
   "outputs": [],
   "source": [
    "import win32com.client as win32\n",
    "\n",
    "# Criar uma instância do Outlook\n",
    "outlook = win32.Dispatch('outlook.application')\n",
    "\n",
    "# Criar um novo e-mail\n",
    "email = outlook.CreateItem(0)\n",
    "\n",
    "email.To = \"; \".join(lista_emails) \n",
    "\n",
    "# Definir o destinatário, assunto e corpo do e-mail\n",
    "email.Subject = \"TARGETS ENTREGUES\"\n",
    "email.Body = \"Segue o targets entregues a operação na data de hoje. Este email foi enviado de forma automática.\"\n",
    "\n",
    "# Anexar o arquivo renomeado\n",
    "caminho_arquivo = os.path.abspath(f'caminho/{novo_nome}')\n",
    "\n",
    "email.Attachments.Add(caminho_arquivo)\n",
    "# Enviar o e-mail\n",
    "email.Send()\n",
    "\n",
    "df_envio\n",
    "print(\"Email enviado com sucesso!\")"
   ]
  }
 ],
 "metadata": {
  "kernelspec": {
   "display_name": "base",
   "language": "python",
   "name": "python3"
  },
  "language_info": {
   "codemirror_mode": {
    "name": "ipython",
    "version": 3
   },
   "file_extension": ".py",
   "mimetype": "text/x-python",
   "name": "python",
   "nbconvert_exporter": "python",
   "pygments_lexer": "ipython3",
   "version": "3.12.4"
  }
 },
 "nbformat": 4,
 "nbformat_minor": 5
}
